{
 "cells": [
  {
   "cell_type": "markdown",
   "metadata": {},
   "source": [
    "## Data Mining 2024\n",
    "### Final Project - Group 6\n",
    "\n",
    "Beatriz Moreira, 54514 | Rute Patuleia, 51780 | João Lobato, 62611 | Tiago Assis, 62609"
   ]
  },
  {
   "cell_type": "code",
   "execution_count": 1,
   "metadata": {
    "_cell_guid": "b1076dfc-b9ad-4769-8c92-a6c4dae69d19",
    "_uuid": "8f2839f25d086af736a60e9eeb907d3b93b6e0e5",
    "execution": {
     "iopub.execute_input": "2024-06-03T18:07:58.595727Z",
     "iopub.status.busy": "2024-06-03T18:07:58.595374Z",
     "iopub.status.idle": "2024-06-03T18:08:16.648248Z",
     "shell.execute_reply": "2024-06-03T18:08:16.646770Z",
     "shell.execute_reply.started": "2024-06-03T18:07:58.595694Z"
    },
    "trusted": true
   },
   "outputs": [],
   "source": [
    "import warnings\n",
    "warnings.filterwarnings('ignore')\n",
    "import pickle\n",
    "import pandas as pd\n",
    "import numpy as np\n",
    "from sklearn.model_selection import train_test_split\n",
    "from sklearn.metrics import root_mean_squared_error, mean_absolute_error\n",
    "import matplotlib.pyplot as plt\n",
    "import torch\n",
    "import torch.nn as nn\n",
    "import torch.nn.functional as F\n",
    "import torch.optim as optim\n",
    "from torch.utils.data import DataLoader, Dataset\n",
    "from torchinfo import summary\n",
    "from surprise import Dataset, Reader\n",
    "from surprise import SVD, accuracy\n",
    "from surprise.model_selection import train_test_split as train_test_split_s, GridSearchCV"
   ]
  },
  {
   "cell_type": "code",
   "execution_count": 2,
   "metadata": {
    "execution": {
     "iopub.execute_input": "2024-06-03T18:08:16.658457Z",
     "iopub.status.busy": "2024-06-03T18:08:16.657986Z",
     "iopub.status.idle": "2024-06-03T18:08:16.881063Z",
     "shell.execute_reply": "2024-06-03T18:08:16.879836Z",
     "shell.execute_reply.started": "2024-06-03T18:08:16.658399Z"
    },
    "trusted": true
   },
   "outputs": [],
   "source": [
    "activity_train = pd.read_csv(\"activity_train.csv\", names=[\"protein\", \"molecule\", \"activity\"])\n",
    "activity_train[\"molecule\"] = activity_train[\"molecule\"].apply(lambda x: x.strip())\n",
    "activity_test = pd.read_csv(\"activity_test_blanked.csv\", names=[\"protein\", \"molecule\", \"activity\"]).iloc[:,:2]\n",
    "activity_test[\"molecule\"] = activity_test[\"molecule\"].apply(lambda x: x.strip())"
   ]
  },
  {
   "cell_type": "code",
   "execution_count": 3,
   "metadata": {
    "execution": {
     "iopub.execute_input": "2024-06-03T18:08:16.883120Z",
     "iopub.status.busy": "2024-06-03T18:08:16.882678Z",
     "iopub.status.idle": "2024-06-03T18:08:57.456317Z",
     "shell.execute_reply": "2024-06-03T18:08:57.455204Z",
     "shell.execute_reply.started": "2024-06-03T18:08:16.883068Z"
    },
    "trusted": true
   },
   "outputs": [],
   "source": [
    "mol_bits = pickle.load(open(\"mol_bits.pkl\", \"rb\"))\n",
    "\n",
    "mol_features = {}\n",
    "for mol, feat in mol_bits.items():\n",
    "    feat_vector = torch.zeros(2048, dtype=torch.float32)\n",
    "    feat_vector[feat] = 1\n",
    "    mol_features[mol] = feat_vector"
   ]
  },
  {
   "cell_type": "code",
   "execution_count": 4,
   "metadata": {
    "execution": {
     "iopub.execute_input": "2024-06-03T18:08:57.460376Z",
     "iopub.status.busy": "2024-06-03T18:08:57.460016Z",
     "iopub.status.idle": "2024-06-03T18:08:57.480006Z",
     "shell.execute_reply": "2024-06-03T18:08:57.479042Z",
     "shell.execute_reply.started": "2024-06-03T18:08:57.460346Z"
    },
    "trusted": true
   },
   "outputs": [],
   "source": [
    "combined_prot = set(np.concatenate([activity_train['protein'].unique(), activity_test['protein'].unique()]))\n",
    "prot_mappings = {k: i for i, k in enumerate(combined_prot)}"
   ]
  },
  {
   "cell_type": "code",
   "execution_count": 5,
   "metadata": {
    "execution": {
     "iopub.execute_input": "2024-06-03T18:08:57.481851Z",
     "iopub.status.busy": "2024-06-03T18:08:57.481387Z",
     "iopub.status.idle": "2024-06-03T18:08:57.558407Z",
     "shell.execute_reply": "2024-06-03T18:08:57.557390Z",
     "shell.execute_reply.started": "2024-06-03T18:08:57.481789Z"
    },
    "trusted": true
   },
   "outputs": [],
   "source": [
    "combined_mol = set(np.concatenate([activity_train['molecule'].unique(), activity_test['molecule'].unique()]))\n",
    "mol_mappings = {k: i for i, k in enumerate(combined_mol)}"
   ]
  },
  {
   "cell_type": "markdown",
   "metadata": {},
   "source": [
    "## Neural Collaborative Filtering"
   ]
  },
  {
   "cell_type": "markdown",
   "metadata": {},
   "source": [
    "##### https://doi.org/10.1145/3038912.3052569\n",
    "He et al. 2017. Neural Collaborative Filtering. In Proceedings of the 26th International Conference on World Wide Web (WWW '17). International World Wide Web Conferences Steering Committee, Republic and Canton of Geneva, CHE, 173–182."
   ]
  },
  {
   "cell_type": "code",
   "execution_count": 6,
   "metadata": {
    "execution": {
     "iopub.execute_input": "2024-06-03T18:13:30.568422Z",
     "iopub.status.busy": "2024-06-03T18:13:30.567602Z",
     "iopub.status.idle": "2024-06-03T18:13:30.579584Z",
     "shell.execute_reply": "2024-06-03T18:13:30.578217Z",
     "shell.execute_reply.started": "2024-06-03T18:13:30.568382Z"
    },
    "trusted": true
   },
   "outputs": [],
   "source": [
    "class NCF(nn.Module):\n",
    "    def __init__(self, prot_vocab, mol_vocab, num_feats, embedding_dim, drop_prob=0.5):\n",
    "        super().__init__()\n",
    "        self.protein_embedding = nn.Embedding(prot_vocab, embedding_dim)\n",
    "        self.molecule_embedding = nn.Embedding(mol_vocab, embedding_dim)\n",
    "        \n",
    "        self.fc1 = nn.Linear(2 * embedding_dim + num_feats, 1024)\n",
    "        self.fc2 = nn.Linear(1024, 256)\n",
    "        self.fc3 = nn.Linear(256, 64)\n",
    "        self.fc4 = nn.Linear(64, 1)\n",
    "        \n",
    "        self.dropout = nn.Dropout(drop_prob)\n",
    "        \n",
    "        \n",
    "    def forward(self, prot, mol, feat):\n",
    "        prot_emb = self.protein_embedding(prot)\n",
    "        mol_emb = self.molecule_embedding(mol)\n",
    "        \n",
    "        concat = torch.cat([prot_emb, mol_emb, feat], dim=-1)\n",
    "        x = F.relu(self.fc1(concat))\n",
    "        x = self.dropout(x)\n",
    "        x = F.relu(self.fc2(x))\n",
    "        x = self.dropout(x)\n",
    "        x = F.relu(self.fc3(x))\n",
    "        x = self.dropout(x)\n",
    "        x = self.fc4(x)\n",
    "        return x.squeeze()"
   ]
  },
  {
   "cell_type": "code",
   "execution_count": 7,
   "metadata": {
    "execution": {
     "iopub.execute_input": "2024-06-03T18:08:57.578490Z",
     "iopub.status.busy": "2024-06-03T18:08:57.578046Z",
     "iopub.status.idle": "2024-06-03T18:08:57.594642Z",
     "shell.execute_reply": "2024-06-03T18:08:57.593474Z",
     "shell.execute_reply.started": "2024-06-03T18:08:57.578449Z"
    },
    "trusted": true
   },
   "outputs": [],
   "source": [
    "class InteractionDataset(Dataset):\n",
    "    def __init__(self, interaction_df, prot_mappings, mol_mappings, mol_feats, test=False, pred=False):\n",
    "        self.prot_mappings = prot_mappings\n",
    "        self.mol_mappings = mol_mappings\n",
    "        self.mol_feats = mol_feats\n",
    "        self.interaction_df = interaction_df\n",
    "        self.test = test\n",
    "        self.pred = pred\n",
    "\n",
    "    def __getitem__(self, index):\n",
    "        inputs = self.interaction_df.iloc[index,:]\n",
    "        prot_idx = self.prot_mappings[inputs[0]]\n",
    "        mol_idx = self.mol_mappings[inputs[1]]\n",
    "        mol_feats = self.mol_feats[inputs[1]]\n",
    "        if self.pred:\n",
    "            return prot_idx, mol_idx, mol_feats\n",
    "        return prot_idx, mol_idx, mol_feats, torch.tensor(inputs[2], dtype=torch.float32)\n",
    "                                          \n",
    "    def __len__(self):\n",
    "        return len(self.interaction_df)"
   ]
  },
  {
   "cell_type": "code",
   "execution_count": 8,
   "metadata": {
    "execution": {
     "iopub.execute_input": "2024-06-03T18:08:57.596589Z",
     "iopub.status.busy": "2024-06-03T18:08:57.596186Z",
     "iopub.status.idle": "2024-06-03T18:08:57.886984Z",
     "shell.execute_reply": "2024-06-03T18:08:57.885918Z",
     "shell.execute_reply.started": "2024-06-03T18:08:57.596557Z"
    },
    "trusted": true
   },
   "outputs": [],
   "source": [
    "train_df, val_df = train_test_split(activity_train, test_size=0.2, random_state=13, shuffle=True, stratify=activity_train['protein'])"
   ]
  },
  {
   "cell_type": "code",
   "execution_count": 9,
   "metadata": {
    "execution": {
     "iopub.execute_input": "2024-06-03T18:13:32.914889Z",
     "iopub.status.busy": "2024-06-03T18:13:32.914459Z",
     "iopub.status.idle": "2024-06-03T18:13:32.985224Z",
     "shell.execute_reply": "2024-06-03T18:13:32.984157Z",
     "shell.execute_reply.started": "2024-06-03T18:13:32.914853Z"
    },
    "trusted": true
   },
   "outputs": [],
   "source": [
    "TRAIN = False\n",
    "DEVICE = 'cuda' if torch.cuda.is_available() else 'cpu'\n",
    "EPOCHS = 100\n",
    "BATCH_SIZE = 128\n",
    "EMBEDDING_DIM = 32\n",
    "LR = 5e-5\n",
    "\n",
    "num_prots = len(prot_mappings)\n",
    "num_mols = len(mol_mappings)\n",
    "num_features = 2048\n",
    "\n",
    "train_dataset = InteractionDataset(train_df, prot_mappings, mol_mappings, mol_features)\n",
    "val_dataset = InteractionDataset(val_df, prot_mappings, mol_mappings, mol_features)\n",
    "train_dataloader = DataLoader(dataset=train_dataset, batch_size=BATCH_SIZE, shuffle=True)\n",
    "val_dataloader = DataLoader(dataset=val_dataset, batch_size=BATCH_SIZE, shuffle=True)\n",
    "\n",
    "model = NCF(num_prots, num_mols, num_features, EMBEDDING_DIM).to(DEVICE)\n",
    "optimizer = optim.AdamW(model.parameters(), lr=LR, weight_decay=1e-5)\n",
    "scheduler = optim.lr_scheduler.CosineAnnealingLR(optimizer, EPOCHS)\n",
    "loss_fn = nn.MSELoss()"
   ]
  },
  {
   "cell_type": "code",
   "execution_count": 10,
   "metadata": {
    "execution": {
     "iopub.execute_input": "2024-06-03T18:10:54.323814Z",
     "iopub.status.busy": "2024-06-03T18:10:54.323384Z",
     "iopub.status.idle": "2024-06-03T18:10:54.334187Z",
     "shell.execute_reply": "2024-06-03T18:10:54.333082Z",
     "shell.execute_reply.started": "2024-06-03T18:10:54.323768Z"
    },
    "trusted": true
   },
   "outputs": [],
   "source": [
    "def train(model, train_loader, loss_fn, optimizer):\n",
    "    model.train()\n",
    "    running_loss = 0.0\n",
    "    for prot, mol, feat, act in train_loader:\n",
    "        prot = prot.to(DEVICE)\n",
    "        mol = mol.to(DEVICE)\n",
    "        feat = feat.to(DEVICE)\n",
    "        act = act.to(DEVICE)\n",
    "        \n",
    "        optimizer.zero_grad()\n",
    "        preds = model(prot, mol, feat)\n",
    "        loss = loss_fn(preds, act)\n",
    "        loss.backward()\n",
    "        optimizer.step()\n",
    "        \n",
    "        running_loss += loss.item()\n",
    "    \n",
    "    return running_loss / len(train_loader)\n",
    "\n",
    "def evaluate(model, val_loader, loss_fn):\n",
    "    model.eval()\n",
    "    running_loss = 0.0\n",
    "    with torch.no_grad():\n",
    "        for prot, mol, feat, act in val_loader:\n",
    "            prot = prot.to(DEVICE)\n",
    "            mol = mol.to(DEVICE)\n",
    "            feat = feat.to(DEVICE)\n",
    "            act = act.to(DEVICE)\n",
    "            \n",
    "            preds = model(prot, mol, feat)\n",
    "            loss = loss_fn(preds, act)\n",
    "            \n",
    "            running_loss += loss.item()\n",
    "    \n",
    "    return running_loss / len(val_loader)"
   ]
  },
  {
   "cell_type": "code",
   "execution_count": 11,
   "metadata": {
    "execution": {
     "iopub.execute_input": "2024-06-03T18:10:54.712374Z",
     "iopub.status.busy": "2024-06-03T18:10:54.711507Z",
     "iopub.status.idle": "2024-06-03T18:10:54.721369Z",
     "shell.execute_reply": "2024-06-03T18:10:54.719979Z",
     "shell.execute_reply.started": "2024-06-03T18:10:54.712331Z"
    },
    "trusted": true
   },
   "outputs": [],
   "source": [
    "def trainer(model, train_dataloader, val_dataloader, loss_fn, optimizer):\n",
    "    train_losses = []\n",
    "    val_losses = []\n",
    "    for epoch in range(EPOCHS):\n",
    "        train_loss = train(model, train_dataloader, loss_fn, optimizer)\n",
    "        train_losses.append(train_loss)\n",
    "        val_loss = evaluate(model, val_dataloader, loss_fn)\n",
    "        val_losses.append(val_loss)\n",
    "        scheduler.step()\n",
    "        if epoch % 10 == 9:\n",
    "            torch.save(model.state_dict(), f\"model-epoch{epoch+1}.pth\")\n",
    "            print(f'Epoch {epoch+1}/{EPOCHS}, Train RMSE: {np.sqrt(train_loss):.4f}, Val RMSE: {np.sqrt(val_loss):.4f}')\n",
    "    return train_losses, val_losses"
   ]
  },
  {
   "cell_type": "code",
   "execution_count": null,
   "metadata": {},
   "outputs": [],
   "source": [
    "if TRAIN:\n",
    "    train_losses, val_losses = trainer(model, train_dataloader, val_dataloader, loss_fn, optimizer)"
   ]
  },
  {
   "cell_type": "code",
   "execution_count": 187,
   "metadata": {},
   "outputs": [
    {
     "data": {
      "image/png": "[encoded data removed]",
      "text/plain": [
       "<Figure size 640x480 with 1 Axes>"
      ]
     },
     "metadata": {},
     "output_type": "display_data"
    }
   ],
   "source": [
    "if TRAIN:\n",
    "    plt.plot(range(1,EPOCHS+1), train_losses, label=\"Train\")\n",
    "    plt.plot(range(1,EPOCHS+1), val_losses, label=\"Val\")\n",
    "    plt.xlabel(\"Epoch\")\n",
    "    plt.ylabel(\"Loss\")\n",
    "    plt.legend()\n",
    "    plt.savefig(\"train_val.png\")\n",
    "    plt.show()"
   ]
  },
  {
   "cell_type": "code",
   "execution_count": 58,
   "metadata": {
    "trusted": true
   },
   "outputs": [
    {
     "data": {
      "text/plain": [
       "=================================================================\n",
       "Layer (type:depth-idx)                   Param #\n",
       "=================================================================\n",
       "NCF                                      --\n",
       "├─Embedding: 1-1                         4,608\n",
       "├─Embedding: 1-2                         2,363,680\n",
       "├─Linear: 1-3                            2,163,712\n",
       "├─Linear: 1-4                            262,400\n",
       "├─Linear: 1-5                            16,448\n",
       "├─Linear: 1-6                            65\n",
       "├─Dropout: 1-7                           --\n",
       "=================================================================\n",
       "Total params: 4,810,913\n",
       "Trainable params: 4,810,913\n",
       "Non-trainable params: 0\n",
       "================================================================="
      ]
     },
     "execution_count": 58,
     "metadata": {},
     "output_type": "execute_result"
    }
   ],
   "source": [
    "summary(model)"
   ]
  },
  {
   "cell_type": "markdown",
   "metadata": {},
   "source": [
    "#### Evaluation NCF"
   ]
  },
  {
   "cell_type": "code",
   "execution_count": 21,
   "metadata": {
    "trusted": true
   },
   "outputs": [
    {
     "data": {
      "text/plain": [
       "<All keys matched successfully>"
      ]
     },
     "execution_count": 21,
     "metadata": {},
     "output_type": "execute_result"
    }
   ],
   "source": [
    "MODEL_PATH = \"model-epoch100.pth\"\n",
    "model.load_state_dict(torch.load(MODEL_PATH, map_location=torch.device(DEVICE)))"
   ]
  },
  {
   "cell_type": "code",
   "execution_count": 23,
   "metadata": {},
   "outputs": [
    {
     "name": "stdout",
     "output_type": "stream",
     "text": [
      "RMSE: 2.5061\n",
      "MAE: 1.9685\n"
     ]
    }
   ],
   "source": [
    "model.eval()\n",
    "running_loss = 0.0\n",
    "absolute_error = 0.0\n",
    "\n",
    "with torch.no_grad():\n",
    "    for prot, mol, feat, act in val_dataloader:\n",
    "        prot = prot.to(DEVICE)\n",
    "        mol = mol.to(DEVICE)\n",
    "        feat = feat.to(DEVICE)\n",
    "        act = act.to(DEVICE)\n",
    "            \n",
    "        preds = model(prot, mol, feat)\n",
    "        loss = loss_fn(preds, act)\n",
    "\n",
    "        absolute_error += mean_absolute_error(act.cpu().detach(), preds.cpu().detach())\n",
    "        running_loss += np.sqrt(loss.item())\n",
    "\n",
    "print(f'RMSE: {(running_loss / len(val_dataloader)):.4f}')\n",
    "print(f'MAE: {(absolute_error / len(val_dataloader)):.4f}')"
   ]
  },
  {
   "cell_type": "markdown",
   "metadata": {},
   "source": [
    "#### Prediction NCF"
   ]
  },
  {
   "cell_type": "code",
   "execution_count": 189,
   "metadata": {
    "trusted": true
   },
   "outputs": [],
   "source": [
    "pred_dataset = InteractionDataset(activity_test, prot_mappings, mol_mappings, mol_features, pred=True)\n",
    "pred_dataloader = DataLoader(dataset=pred_dataset)"
   ]
  },
  {
   "cell_type": "code",
   "execution_count": 190,
   "metadata": {
    "trusted": true
   },
   "outputs": [],
   "source": [
    "activity_preds_mlp = []\n",
    "model.eval()\n",
    "with torch.no_grad():\n",
    "    for prot_id, mol_id, feat in pred_dataloader:\n",
    "        prot_id = prot_id.to(DEVICE)\n",
    "        mol_id = mol_id.to(DEVICE)\n",
    "        feat = feat.to(DEVICE)\n",
    "            \n",
    "        pred = model(prot_id, mol_id, feat)\n",
    "        pred = pred.cpu().detach().item()\n",
    "        \n",
    "        activity_preds_mlp.append(np.clip(pred, 1, 10))"
   ]
  },
  {
   "cell_type": "code",
   "execution_count": 191,
   "metadata": {},
   "outputs": [
    {
     "data": {
      "text/html": [
       "<div>\n",
       "<style scoped>\n",
       "    .dataframe tbody tr th:only-of-type {\n",
       "        vertical-align: middle;\n",
       "    }\n",
       "\n",
       "    .dataframe tbody tr th {\n",
       "        vertical-align: top;\n",
       "    }\n",
       "\n",
       "    .dataframe thead th {\n",
       "        text-align: right;\n",
       "    }\n",
       "</style>\n",
       "<table border=\"1\" class=\"dataframe\">\n",
       "  <thead>\n",
       "    <tr style=\"text-align: right;\">\n",
       "      <th></th>\n",
       "      <th>protein</th>\n",
       "      <th>molecule</th>\n",
       "      <th>activity</th>\n",
       "    </tr>\n",
       "  </thead>\n",
       "  <tbody>\n",
       "    <tr>\n",
       "      <th>0</th>\n",
       "      <td>O14842</td>\n",
       "      <td>CHEMBL2022258</td>\n",
       "      <td>4.991796</td>\n",
       "    </tr>\n",
       "    <tr>\n",
       "      <th>1</th>\n",
       "      <td>O14842</td>\n",
       "      <td>CHEMBL2047161</td>\n",
       "      <td>6.653746</td>\n",
       "    </tr>\n",
       "    <tr>\n",
       "      <th>2</th>\n",
       "      <td>O14842</td>\n",
       "      <td>CHEMBL2047163</td>\n",
       "      <td>5.109513</td>\n",
       "    </tr>\n",
       "    <tr>\n",
       "      <th>3</th>\n",
       "      <td>O14842</td>\n",
       "      <td>CHEMBL2047168</td>\n",
       "      <td>6.303686</td>\n",
       "    </tr>\n",
       "    <tr>\n",
       "      <th>4</th>\n",
       "      <td>O14842</td>\n",
       "      <td>CHEMBL2047169</td>\n",
       "      <td>5.880341</td>\n",
       "    </tr>\n",
       "    <tr>\n",
       "      <th>5</th>\n",
       "      <td>O14842</td>\n",
       "      <td>CHEMBL2048621</td>\n",
       "      <td>6.012907</td>\n",
       "    </tr>\n",
       "    <tr>\n",
       "      <th>6</th>\n",
       "      <td>O14842</td>\n",
       "      <td>CHEMBL2048623</td>\n",
       "      <td>6.554904</td>\n",
       "    </tr>\n",
       "    <tr>\n",
       "      <th>7</th>\n",
       "      <td>O14842</td>\n",
       "      <td>CHEMBL207881</td>\n",
       "      <td>2.869274</td>\n",
       "    </tr>\n",
       "    <tr>\n",
       "      <th>8</th>\n",
       "      <td>O14842</td>\n",
       "      <td>CHEMBL4067052</td>\n",
       "      <td>2.810349</td>\n",
       "    </tr>\n",
       "    <tr>\n",
       "      <th>9</th>\n",
       "      <td>O14842</td>\n",
       "      <td>CHEMBL4069191</td>\n",
       "      <td>5.328992</td>\n",
       "    </tr>\n",
       "  </tbody>\n",
       "</table>\n",
       "</div>"
      ],
      "text/plain": [
       "  protein       molecule  activity\n",
       "0  O14842  CHEMBL2022258  4.991796\n",
       "1  O14842  CHEMBL2047161  6.653746\n",
       "2  O14842  CHEMBL2047163  5.109513\n",
       "3  O14842  CHEMBL2047168  6.303686\n",
       "4  O14842  CHEMBL2047169  5.880341\n",
       "5  O14842  CHEMBL2048621  6.012907\n",
       "6  O14842  CHEMBL2048623  6.554904\n",
       "7  O14842   CHEMBL207881  2.869274\n",
       "8  O14842  CHEMBL4067052  2.810349\n",
       "9  O14842  CHEMBL4069191  5.328992"
      ]
     },
     "execution_count": 191,
     "metadata": {},
     "output_type": "execute_result"
    }
   ],
   "source": [
    "preds_mlp = pd.concat([activity_test, pd.Series(activity_preds_mlp, name=\"activity\")], axis=1)\n",
    "preds_mlp.head(10)"
   ]
  },
  {
   "cell_type": "markdown",
   "metadata": {},
   "source": [
    "---"
   ]
  },
  {
   "cell_type": "markdown",
   "metadata": {},
   "source": [
    "## SVD Matrix Factorization"
   ]
  },
  {
   "cell_type": "code",
   "execution_count": 192,
   "metadata": {},
   "outputs": [],
   "source": [
    "reader = Reader(rating_scale=(1, 10))\n",
    "data = Dataset.load_from_df(activity_train[['protein', 'molecule', 'activity']], reader)\n",
    "gridsearch = False"
   ]
  },
  {
   "cell_type": "code",
   "execution_count": null,
   "metadata": {},
   "outputs": [],
   "source": [
    "if gridsearch:\n",
    "    param_grid = {\n",
    "        'n_factors': [10, 15, 20, 25, 30, 35],\n",
    "        'n_epochs': [10, 15, 20, 25, 30],\n",
    "        'lr_all': [0.05, 0.025, 0.01, 0.005, 0.0025, 0.001],\n",
    "        'reg_all': [0.2, 0.15, 0.1, 0.05],\n",
    "        'random_state': [13]\n",
    "    }\n",
    "\n",
    "    grid_search = GridSearchCV(SVD, param_grid, measures=['rmse'], cv=5)\n",
    "    grid_search.fit(data)\n",
    "\n",
    "    best_params = grid_search.best_params['rmse']\n",
    "    print(f'Best RMSE: {grid_search.best_score[\"rmse\"]}')\n",
    "    print(f'Best parameters: {best_params}')"
   ]
  },
  {
   "cell_type": "code",
   "execution_count": 193,
   "metadata": {},
   "outputs": [],
   "source": [
    "best_params = {'n_factors': 25, 'n_epochs': 25, 'lr_all': 0.01, 'reg_all': 0.1, 'random_state': 13}"
   ]
  },
  {
   "cell_type": "markdown",
   "metadata": {},
   "source": [
    "#### Evaluation SVD MF"
   ]
  },
  {
   "cell_type": "code",
   "execution_count": 194,
   "metadata": {},
   "outputs": [
    {
     "name": "stdout",
     "output_type": "stream",
     "text": [
      "RMSE: 2.4225\n",
      "MAE:  1.9898\n"
     ]
    }
   ],
   "source": [
    "train = data.build_full_trainset()\n",
    "best_model = SVD(**best_params)\n",
    "\n",
    "train, val = train_test_split_s(data, test_size=0.2, random_state=13, shuffle=True)\n",
    "best_model.fit(train)\n",
    "preds = best_model.test(val)\n",
    "rmse = accuracy.rmse(preds)\n",
    "mae = accuracy.mae(preds)"
   ]
  },
  {
   "cell_type": "markdown",
   "metadata": {},
   "source": [
    "#### Prediction SVD MF"
   ]
  },
  {
   "cell_type": "code",
   "execution_count": 195,
   "metadata": {},
   "outputs": [],
   "source": [
    "preds_svd_mf = activity_test.copy()\n",
    "preds_svd_mf['activity'] = 0"
   ]
  },
  {
   "cell_type": "code",
   "execution_count": 196,
   "metadata": {},
   "outputs": [],
   "source": [
    "test_data = Dataset.load_from_df(preds_svd_mf[['protein', 'molecule', 'activity']], reader)\n",
    "test = test_data.build_full_trainset().build_testset()"
   ]
  },
  {
   "cell_type": "code",
   "execution_count": 197,
   "metadata": {},
   "outputs": [],
   "source": [
    "preds = best_model.test(test)\n",
    "preds_list = [np.clip(pred.est, 1, 10) for pred in preds]\n",
    "preds_svd_mf['activity'] = preds_list"
   ]
  },
  {
   "cell_type": "code",
   "execution_count": 198,
   "metadata": {},
   "outputs": [
    {
     "data": {
      "text/html": [
       "<div>\n",
       "<style scoped>\n",
       "    .dataframe tbody tr th:only-of-type {\n",
       "        vertical-align: middle;\n",
       "    }\n",
       "\n",
       "    .dataframe tbody tr th {\n",
       "        vertical-align: top;\n",
       "    }\n",
       "\n",
       "    .dataframe thead th {\n",
       "        text-align: right;\n",
       "    }\n",
       "</style>\n",
       "<table border=\"1\" class=\"dataframe\">\n",
       "  <thead>\n",
       "    <tr style=\"text-align: right;\">\n",
       "      <th></th>\n",
       "      <th>protein</th>\n",
       "      <th>molecule</th>\n",
       "      <th>activity</th>\n",
       "    </tr>\n",
       "  </thead>\n",
       "  <tbody>\n",
       "    <tr>\n",
       "      <th>0</th>\n",
       "      <td>O14842</td>\n",
       "      <td>CHEMBL2022258</td>\n",
       "      <td>5.252942</td>\n",
       "    </tr>\n",
       "    <tr>\n",
       "      <th>1</th>\n",
       "      <td>O14842</td>\n",
       "      <td>CHEMBL2047161</td>\n",
       "      <td>5.252942</td>\n",
       "    </tr>\n",
       "    <tr>\n",
       "      <th>2</th>\n",
       "      <td>O14842</td>\n",
       "      <td>CHEMBL2047163</td>\n",
       "      <td>5.252942</td>\n",
       "    </tr>\n",
       "    <tr>\n",
       "      <th>3</th>\n",
       "      <td>O14842</td>\n",
       "      <td>CHEMBL2047168</td>\n",
       "      <td>5.252942</td>\n",
       "    </tr>\n",
       "    <tr>\n",
       "      <th>4</th>\n",
       "      <td>O14842</td>\n",
       "      <td>CHEMBL2047169</td>\n",
       "      <td>5.252942</td>\n",
       "    </tr>\n",
       "    <tr>\n",
       "      <th>5</th>\n",
       "      <td>O14842</td>\n",
       "      <td>CHEMBL2048621</td>\n",
       "      <td>5.252942</td>\n",
       "    </tr>\n",
       "    <tr>\n",
       "      <th>6</th>\n",
       "      <td>O14842</td>\n",
       "      <td>CHEMBL2048623</td>\n",
       "      <td>5.252942</td>\n",
       "    </tr>\n",
       "    <tr>\n",
       "      <th>7</th>\n",
       "      <td>O14842</td>\n",
       "      <td>CHEMBL207881</td>\n",
       "      <td>5.678666</td>\n",
       "    </tr>\n",
       "    <tr>\n",
       "      <th>8</th>\n",
       "      <td>O14842</td>\n",
       "      <td>CHEMBL4067052</td>\n",
       "      <td>5.252942</td>\n",
       "    </tr>\n",
       "    <tr>\n",
       "      <th>9</th>\n",
       "      <td>O14842</td>\n",
       "      <td>CHEMBL4069191</td>\n",
       "      <td>5.252942</td>\n",
       "    </tr>\n",
       "  </tbody>\n",
       "</table>\n",
       "</div>"
      ],
      "text/plain": [
       "  protein       molecule  activity\n",
       "0  O14842  CHEMBL2022258  5.252942\n",
       "1  O14842  CHEMBL2047161  5.252942\n",
       "2  O14842  CHEMBL2047163  5.252942\n",
       "3  O14842  CHEMBL2047168  5.252942\n",
       "4  O14842  CHEMBL2047169  5.252942\n",
       "5  O14842  CHEMBL2048621  5.252942\n",
       "6  O14842  CHEMBL2048623  5.252942\n",
       "7  O14842   CHEMBL207881  5.678666\n",
       "8  O14842  CHEMBL4067052  5.252942\n",
       "9  O14842  CHEMBL4069191  5.252942"
      ]
     },
     "execution_count": 198,
     "metadata": {},
     "output_type": "execute_result"
    }
   ],
   "source": [
    "preds_svd_mf.head(10)"
   ]
  },
  {
   "cell_type": "markdown",
   "metadata": {},
   "source": [
    "---"
   ]
  },
  {
   "cell_type": "markdown",
   "metadata": {},
   "source": [
    "## User-User Collaborative Filtering"
   ]
  },
  {
   "cell_type": "code",
   "execution_count": 199,
   "metadata": {
    "trusted": true
   },
   "outputs": [],
   "source": [
    "def RowCenterMatrix(M):\n",
    "    row_means = np.expand_dims(np.nanmean(M, axis=1), axis=1)\n",
    "    MC = M - row_means\n",
    "    MC[np.isnan(MC)] = 0\n",
    "    return MC\n",
    "\n",
    "\n",
    "def CosSim_Matrix(M):\n",
    "    norms = np.sqrt(np.sum(np.square(M), axis=1))\n",
    "    norms[norms < 1e-6] = 1e-6 #this will solve rows or cols without variance\n",
    "    norms_M = np.outer(norms, norms)\n",
    "    return np.dot(M, M.T) / norms_M\n",
    "\n",
    "\n",
    "def make_GBAMatrix(M):\n",
    "    global_mean = np.nanmean(M)\n",
    "    row_means = np.nanmean(M, axis=1)\n",
    "    prot_dif = row_means - global_mean\n",
    "    col_means = np.nanmean(M, axis=0)\n",
    "    mol_dif = col_means - global_mean\n",
    "    return global_mean, prot_dif, mol_dif\n",
    "\n",
    "\n",
    "def estimate_score(mat, SM, gba, nn, row, col, verbose=False):\n",
    "    N, M = mat.shape\n",
    "    sims = list(zip(SM[row], range(N)))\n",
    "    sims.sort()\n",
    "    sims.reverse()\n",
    "    \n",
    "    cnt, S, Ssims = 0, 0, 0\n",
    "    if verbose: print(\"row: %d - col: %d\" % (row,col))\n",
    "    for  sim, idx in sims[1:]:\n",
    "        if not np.isnan(mat[idx, col]) and sim > 0:\n",
    "            r = gba[0] + gba[1][idx] + gba[2][col]\n",
    "            S += sim * (mat[idx, col] - r)\n",
    "            Ssims += sim\n",
    "            cnt += 1\n",
    "            if verbose: print(\"\\tItem:%4d    Score:%4.1f (Sim: %6.3f)\" %(idx, mat[idx, col], sim))\n",
    "        if cnt >= nn: break\n",
    "    \n",
    "    r = gba[0] + (gba[1][row] if not np.isnan(gba[1][row]) else 0) + (gba[2][col] if not np.isnan(gba[2][col]) else 0)\n",
    "\n",
    "    if Ssims <= 0:\n",
    "        if verbose: print(\"\\tNo similars: outputing the Global Baseline Average\")\n",
    "        if verbose: print(\"\\tScore: %7.4f\" % r)\n",
    "        return r\n",
    "    if verbose: print(\"\\tScore: %7.4f\" % (r + S / Ssims))\n",
    "\n",
    "    return r + S / Ssims"
   ]
  },
  {
   "cell_type": "markdown",
   "metadata": {},
   "source": [
    "#### Evaluation U-U CF"
   ]
  },
  {
   "cell_type": "code",
   "execution_count": 200,
   "metadata": {
    "trusted": true
   },
   "outputs": [],
   "source": [
    "cols = activity_train['molecule'].map(mol_mappings).values.copy()\n",
    "rows = activity_train['protein'].map(prot_mappings).values.copy()\n",
    "data_train = activity_train['activity'].values.copy()\n",
    "data_val = data_train.copy()\n",
    "data_val[val_df.index] = 0\n",
    "\n",
    "uu_matrix = np.empty((len(prot_mappings), len(mol_mappings)))\n",
    "uu_matrix[:] = np.nan\n",
    "val_uu_matrix = uu_matrix.copy()\n",
    "uu_matrix[rows, cols] = data_train\n",
    "val_uu_matrix[rows, cols] = data_val\n",
    "val_uu_matrix[val_uu_matrix == 0] = np.nan"
   ]
  },
  {
   "cell_type": "code",
   "execution_count": 201,
   "metadata": {},
   "outputs": [
    {
     "data": {
      "text/plain": [
       "(4.705318325841868, (144,), (73865,))"
      ]
     },
     "execution_count": 201,
     "metadata": {},
     "output_type": "execute_result"
    }
   ],
   "source": [
    "gba = make_GBAMatrix(val_uu_matrix)\n",
    "gba[0], gba[1].shape, gba[2].shape"
   ]
  },
  {
   "cell_type": "code",
   "execution_count": 202,
   "metadata": {
    "trusted": true
   },
   "outputs": [],
   "source": [
    "val_uu_c_matrix = RowCenterMatrix(val_uu_matrix)\n",
    "val_uu_sim_matrix = CosSim_Matrix(val_uu_c_matrix)"
   ]
  },
  {
   "cell_type": "code",
   "execution_count": 203,
   "metadata": {},
   "outputs": [],
   "source": [
    "validation = []\n",
    "for i, (prot, mol, _) in val_df.iterrows():\n",
    "    prot_idx = prot_mappings[prot]\n",
    "    mol_idx = mol_mappings[mol]\n",
    "    pred = estimate_score(val_uu_matrix, val_uu_sim_matrix, gba, 10, prot_idx, mol_idx)\n",
    "    validation.append(np.clip(pred, 1, 10))"
   ]
  },
  {
   "cell_type": "code",
   "execution_count": 204,
   "metadata": {},
   "outputs": [],
   "source": [
    "val_df[\"activity (pred)\"] = validation"
   ]
  },
  {
   "cell_type": "code",
   "execution_count": 205,
   "metadata": {},
   "outputs": [
    {
     "name": "stdout",
     "output_type": "stream",
     "text": [
      "RMSE: 2.6415\n",
      "MAE: 2.0389\n"
     ]
    }
   ],
   "source": [
    "rmse = root_mean_squared_error(val_df['activity'], val_df['activity (pred)'])\n",
    "mae = mean_absolute_error(val_df['activity'], val_df['activity (pred)'])\n",
    "print(f\"RMSE: {rmse:.4f}\")\n",
    "print(f\"MAE: {mae:.4f}\")"
   ]
  },
  {
   "cell_type": "markdown",
   "metadata": {},
   "source": [
    "#### Prediction U-U CF"
   ]
  },
  {
   "cell_type": "code",
   "execution_count": 206,
   "metadata": {},
   "outputs": [
    {
     "name": "stdout",
     "output_type": "stream",
     "text": [
      "4.708792949724046 (144,) (73865,)\n"
     ]
    }
   ],
   "source": [
    "gba = make_GBAMatrix(uu_matrix)\n",
    "print(gba[0], gba[1].shape, gba[2].shape)\n",
    "\n",
    "uu_c_matrix = RowCenterMatrix(uu_matrix)\n",
    "uu_sim_matrix = CosSim_Matrix(uu_c_matrix)"
   ]
  },
  {
   "cell_type": "code",
   "execution_count": 207,
   "metadata": {
    "trusted": true
   },
   "outputs": [],
   "source": [
    "activity_preds_cf = []\n",
    "for i, (prot, mol) in activity_test.iterrows():\n",
    "    prot_idx = prot_mappings[prot]\n",
    "    mol_idx = mol_mappings[mol]\n",
    "    pred = estimate_score(uu_matrix, uu_sim_matrix, gba, 10, prot_idx, mol_idx)\n",
    "    activity_preds_cf.append(np.clip(pred, 1, 10))"
   ]
  },
  {
   "cell_type": "code",
   "execution_count": 208,
   "metadata": {
    "trusted": true
   },
   "outputs": [
    {
     "data": {
      "text/html": [
       "<div>\n",
       "<style scoped>\n",
       "    .dataframe tbody tr th:only-of-type {\n",
       "        vertical-align: middle;\n",
       "    }\n",
       "\n",
       "    .dataframe tbody tr th {\n",
       "        vertical-align: top;\n",
       "    }\n",
       "\n",
       "    .dataframe thead th {\n",
       "        text-align: right;\n",
       "    }\n",
       "</style>\n",
       "<table border=\"1\" class=\"dataframe\">\n",
       "  <thead>\n",
       "    <tr style=\"text-align: right;\">\n",
       "      <th></th>\n",
       "      <th>protein</th>\n",
       "      <th>molecule</th>\n",
       "      <th>activity</th>\n",
       "    </tr>\n",
       "  </thead>\n",
       "  <tbody>\n",
       "    <tr>\n",
       "      <th>0</th>\n",
       "      <td>O14842</td>\n",
       "      <td>CHEMBL2022258</td>\n",
       "      <td>5.370968</td>\n",
       "    </tr>\n",
       "    <tr>\n",
       "      <th>1</th>\n",
       "      <td>O14842</td>\n",
       "      <td>CHEMBL2047161</td>\n",
       "      <td>5.370968</td>\n",
       "    </tr>\n",
       "    <tr>\n",
       "      <th>2</th>\n",
       "      <td>O14842</td>\n",
       "      <td>CHEMBL2047163</td>\n",
       "      <td>5.370968</td>\n",
       "    </tr>\n",
       "    <tr>\n",
       "      <th>3</th>\n",
       "      <td>O14842</td>\n",
       "      <td>CHEMBL2047168</td>\n",
       "      <td>5.370968</td>\n",
       "    </tr>\n",
       "    <tr>\n",
       "      <th>4</th>\n",
       "      <td>O14842</td>\n",
       "      <td>CHEMBL2047169</td>\n",
       "      <td>5.370968</td>\n",
       "    </tr>\n",
       "    <tr>\n",
       "      <th>5</th>\n",
       "      <td>O14842</td>\n",
       "      <td>CHEMBL2048621</td>\n",
       "      <td>5.370968</td>\n",
       "    </tr>\n",
       "    <tr>\n",
       "      <th>6</th>\n",
       "      <td>O14842</td>\n",
       "      <td>CHEMBL2048623</td>\n",
       "      <td>5.370968</td>\n",
       "    </tr>\n",
       "    <tr>\n",
       "      <th>7</th>\n",
       "      <td>O14842</td>\n",
       "      <td>CHEMBL207881</td>\n",
       "      <td>3.328841</td>\n",
       "    </tr>\n",
       "    <tr>\n",
       "      <th>8</th>\n",
       "      <td>O14842</td>\n",
       "      <td>CHEMBL4067052</td>\n",
       "      <td>5.370968</td>\n",
       "    </tr>\n",
       "    <tr>\n",
       "      <th>9</th>\n",
       "      <td>O14842</td>\n",
       "      <td>CHEMBL4069191</td>\n",
       "      <td>5.370968</td>\n",
       "    </tr>\n",
       "  </tbody>\n",
       "</table>\n",
       "</div>"
      ],
      "text/plain": [
       "  protein       molecule  activity\n",
       "0  O14842  CHEMBL2022258  5.370968\n",
       "1  O14842  CHEMBL2047161  5.370968\n",
       "2  O14842  CHEMBL2047163  5.370968\n",
       "3  O14842  CHEMBL2047168  5.370968\n",
       "4  O14842  CHEMBL2047169  5.370968\n",
       "5  O14842  CHEMBL2048621  5.370968\n",
       "6  O14842  CHEMBL2048623  5.370968\n",
       "7  O14842   CHEMBL207881  3.328841\n",
       "8  O14842  CHEMBL4067052  5.370968\n",
       "9  O14842  CHEMBL4069191  5.370968"
      ]
     },
     "execution_count": 208,
     "metadata": {},
     "output_type": "execute_result"
    }
   ],
   "source": [
    "preds_uu_cf = pd.concat([activity_test, pd.Series(activity_preds_cf, name=\"activity\")], axis=1)\n",
    "preds_uu_cf.head(10)"
   ]
  },
  {
   "cell_type": "markdown",
   "metadata": {},
   "source": [
    "---"
   ]
  },
  {
   "cell_type": "markdown",
   "metadata": {},
   "source": [
    "## Ensemble"
   ]
  },
  {
   "cell_type": "code",
   "execution_count": 209,
   "metadata": {},
   "outputs": [],
   "source": [
    "preds_ensemble = activity_test.copy()\n",
    "preds_ensemble['activity'] = (preds_uu_cf['activity'] + preds_mlp['activity'] + preds_svd_mf['activity']) / 3"
   ]
  },
  {
   "cell_type": "code",
   "execution_count": 210,
   "metadata": {},
   "outputs": [
    {
     "data": {
      "text/html": [
       "<div>\n",
       "<style scoped>\n",
       "    .dataframe tbody tr th:only-of-type {\n",
       "        vertical-align: middle;\n",
       "    }\n",
       "\n",
       "    .dataframe tbody tr th {\n",
       "        vertical-align: top;\n",
       "    }\n",
       "\n",
       "    .dataframe thead th {\n",
       "        text-align: right;\n",
       "    }\n",
       "</style>\n",
       "<table border=\"1\" class=\"dataframe\">\n",
       "  <thead>\n",
       "    <tr style=\"text-align: right;\">\n",
       "      <th></th>\n",
       "      <th>protein</th>\n",
       "      <th>molecule</th>\n",
       "      <th>activity</th>\n",
       "    </tr>\n",
       "  </thead>\n",
       "  <tbody>\n",
       "    <tr>\n",
       "      <th>0</th>\n",
       "      <td>O14842</td>\n",
       "      <td>CHEMBL2022258</td>\n",
       "      <td>5.205235</td>\n",
       "    </tr>\n",
       "    <tr>\n",
       "      <th>1</th>\n",
       "      <td>O14842</td>\n",
       "      <td>CHEMBL2047161</td>\n",
       "      <td>5.759218</td>\n",
       "    </tr>\n",
       "    <tr>\n",
       "      <th>2</th>\n",
       "      <td>O14842</td>\n",
       "      <td>CHEMBL2047163</td>\n",
       "      <td>5.244474</td>\n",
       "    </tr>\n",
       "    <tr>\n",
       "      <th>3</th>\n",
       "      <td>O14842</td>\n",
       "      <td>CHEMBL2047168</td>\n",
       "      <td>5.642532</td>\n",
       "    </tr>\n",
       "    <tr>\n",
       "      <th>4</th>\n",
       "      <td>O14842</td>\n",
       "      <td>CHEMBL2047169</td>\n",
       "      <td>5.501417</td>\n",
       "    </tr>\n",
       "    <tr>\n",
       "      <th>5</th>\n",
       "      <td>O14842</td>\n",
       "      <td>CHEMBL2048621</td>\n",
       "      <td>5.545606</td>\n",
       "    </tr>\n",
       "    <tr>\n",
       "      <th>6</th>\n",
       "      <td>O14842</td>\n",
       "      <td>CHEMBL2048623</td>\n",
       "      <td>5.726271</td>\n",
       "    </tr>\n",
       "    <tr>\n",
       "      <th>7</th>\n",
       "      <td>O14842</td>\n",
       "      <td>CHEMBL207881</td>\n",
       "      <td>3.958927</td>\n",
       "    </tr>\n",
       "    <tr>\n",
       "      <th>8</th>\n",
       "      <td>O14842</td>\n",
       "      <td>CHEMBL4067052</td>\n",
       "      <td>4.478086</td>\n",
       "    </tr>\n",
       "    <tr>\n",
       "      <th>9</th>\n",
       "      <td>O14842</td>\n",
       "      <td>CHEMBL4069191</td>\n",
       "      <td>5.317634</td>\n",
       "    </tr>\n",
       "  </tbody>\n",
       "</table>\n",
       "</div>"
      ],
      "text/plain": [
       "  protein       molecule  activity\n",
       "0  O14842  CHEMBL2022258  5.205235\n",
       "1  O14842  CHEMBL2047161  5.759218\n",
       "2  O14842  CHEMBL2047163  5.244474\n",
       "3  O14842  CHEMBL2047168  5.642532\n",
       "4  O14842  CHEMBL2047169  5.501417\n",
       "5  O14842  CHEMBL2048621  5.545606\n",
       "6  O14842  CHEMBL2048623  5.726271\n",
       "7  O14842   CHEMBL207881  3.958927\n",
       "8  O14842  CHEMBL4067052  4.478086\n",
       "9  O14842  CHEMBL4069191  5.317634"
      ]
     },
     "execution_count": 210,
     "metadata": {},
     "output_type": "execute_result"
    }
   ],
   "source": [
    "preds_ensemble.head(10)"
   ]
  },
  {
   "cell_type": "markdown",
   "metadata": {},
   "source": [
    "#### Saving Predictions CSV"
   ]
  },
  {
   "cell_type": "code",
   "execution_count": 211,
   "metadata": {
    "trusted": true
   },
   "outputs": [],
   "source": [
    "preds_ensemble.to_csv(\"predicted_values.txt\", index=False, header=False)"
   ]
  }
 ],
 "metadata": {
  "kaggle": {
   "accelerator": "gpu",
   "dataSources": [
    {
     "datasetId": 5032364,
     "sourceId": 8445509,
     "sourceType": "datasetVersion"
    },
    {
     "isSourceIdPinned": true,
     "modelInstanceId": 50230,
     "sourceId": 60051,
     "sourceType": "modelInstanceVersion"
    }
   ],
   "dockerImageVersionId": 30698,
   "isGpuEnabled": true,
   "isInternetEnabled": true,
   "language": "python",
   "sourceType": "notebook"
  },
  "kernelspec": {
   "display_name": "Python 3",
   "language": "python",
   "name": "python3"
  },
  "language_info": {
   "codemirror_mode": {
    "name": "ipython",
    "version": 3
   },
   "file_extension": ".py",
   "mimetype": "text/x-python",
   "name": "python",
   "nbconvert_exporter": "python",
   "pygments_lexer": "ipython3",
   "version": "3.12.1"
  }
 },
 "nbformat": 4,
 "nbformat_minor": 4
}
